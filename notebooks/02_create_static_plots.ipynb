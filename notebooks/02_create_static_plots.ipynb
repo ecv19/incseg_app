{
 "cells": [
  {
   "cell_type": "code",
   "execution_count": 1,
   "id": "f5c1e569-a37e-4647-9c23-6f8bbb9e1376",
   "metadata": {
    "execution": {
     "iopub.execute_input": "2021-08-13T18:37:00.099188Z",
     "iopub.status.busy": "2021-08-13T18:37:00.098984Z",
     "iopub.status.idle": "2021-08-13T18:37:00.152493Z",
     "shell.execute_reply": "2021-08-13T18:37:00.151811Z",
     "shell.execute_reply.started": "2021-08-13T18:37:00.099142Z"
    },
    "tags": []
   },
   "outputs": [],
   "source": [
    "%load_ext autoreload\n",
    "%autoreload 2"
   ]
  },
  {
   "cell_type": "code",
   "execution_count": 2,
   "id": "a556711e-32bf-4373-9342-040f1c646f9b",
   "metadata": {
    "execution": {
     "iopub.execute_input": "2021-08-13T18:37:00.153893Z",
     "iopub.status.busy": "2021-08-13T18:37:00.153506Z",
     "iopub.status.idle": "2021-08-13T18:37:01.736978Z",
     "shell.execute_reply": "2021-08-13T18:37:01.736160Z",
     "shell.execute_reply.started": "2021-08-13T18:37:00.153874Z"
    },
    "tags": []
   },
   "outputs": [],
   "source": [
    "import pandas as pd"
   ]
  },
  {
   "cell_type": "code",
   "execution_count": 3,
   "id": "2052d3a7-1e52-4aa3-be4e-36cbfe23cc28",
   "metadata": {
    "execution": {
     "iopub.execute_input": "2021-08-13T18:37:01.746928Z",
     "iopub.status.busy": "2021-08-13T18:37:01.746562Z",
     "iopub.status.idle": "2021-08-13T18:37:25.949887Z",
     "shell.execute_reply": "2021-08-13T18:37:25.949241Z",
     "shell.execute_reply.started": "2021-08-13T18:37:01.746902Z"
    },
    "tags": []
   },
   "outputs": [
    {
     "name": "stderr",
     "output_type": "stream",
     "text": [
      "OMP: Info #271: omp_set_nested routine deprecated, please use omp_set_max_active_levels instead.\n"
     ]
    }
   ],
   "source": [
    "from incseg import msas, plot_trend_graphs, plot_multiscalar_graphs"
   ]
  },
  {
   "cell_type": "code",
   "execution_count": 4,
   "id": "9f9582e4-806f-4322-a9c9-80d57f4c3415",
   "metadata": {
    "execution": {
     "iopub.execute_input": "2021-08-13T18:37:25.951216Z",
     "iopub.status.busy": "2021-08-13T18:37:25.950924Z",
     "iopub.status.idle": "2021-08-13T18:37:26.105350Z",
     "shell.execute_reply": "2021-08-13T18:37:26.104836Z",
     "shell.execute_reply.started": "2021-08-13T18:37:25.951190Z"
    },
    "tags": []
   },
   "outputs": [],
   "source": [
    "unique_fips = msas['CBSA Code'].unique()"
   ]
  },
  {
   "cell_type": "markdown",
   "id": "71160eae-39f2-4314-944b-d3143689f549",
   "metadata": {},
   "source": [
    "these should really be done in parallel..."
   ]
  },
  {
   "cell_type": "code",
   "execution_count": null,
   "id": "3ea15273-a65e-4e29-b29d-a61560f2c691",
   "metadata": {
    "execution": {
     "iopub.execute_input": "2021-08-13T20:02:12.547557Z",
     "iopub.status.busy": "2021-08-13T20:02:12.547347Z"
    },
    "tags": []
   },
   "outputs": [
    {
     "name": "stdout",
     "output_type": "stream",
     "text": [
      "10740 failed with [Errno 2] No such file or directory: '../data/10740/10740_singlegroup_high.parquet'\n",
      "17640 failed with [Errno 2] No such file or directory: '../data/17640/17640_singlegroup_high.parquet'\n",
      "19740 failed with [Errno 2] No such file or directory: '../data/19740/19740_singlegroup_high.parquet'\n",
      "21580 failed with [Errno 2] No such file or directory: '../data/21580/21580_singlegroup_high.parquet'\n",
      "27580 failed with [Errno 2] No such file or directory: '../data/27580/27580_singlegroup_high.parquet'\n"
     ]
    }
   ],
   "source": [
    "for i,fips in enumerate(unique_fips):\n",
    "    name = msas[msas['CBSA Code']==unique_fips[i]]['CBSA Title'].iloc[0]\n",
    "    plot_trend_graphs('High Income', name, fips)"
   ]
  },
  {
   "cell_type": "code",
   "execution_count": null,
   "id": "c454d781-9327-4901-892e-40fb72c39ee8",
   "metadata": {
    "execution": {
     "iopub.status.busy": "2021-08-13T20:01:37.255056Z",
     "iopub.status.idle": "2021-08-13T20:01:37.255383Z",
     "shell.execute_reply": "2021-08-13T20:01:37.255183Z",
     "shell.execute_reply.started": "2021-08-13T20:01:37.255170Z"
    },
    "tags": []
   },
   "outputs": [],
   "source": [
    "for i,fips in enumerate(unique_fips):\n",
    "    name = msas[msas['CBSA Code']==unique_fips[i]]['CBSA Title'].iloc[0]\n",
    "    df = pd.read_parquet(f'../data/{fips}/{fips}_singlegroup_low.parquet')\n",
    "    plot_trend_graphs('Low Income', name, fips)"
   ]
  },
  {
   "cell_type": "code",
   "execution_count": null,
   "id": "b259414c-9043-41e8-95dd-b59db3bdbcca",
   "metadata": {
    "execution": {
     "iopub.status.busy": "2021-08-13T18:30:04.705457Z",
     "iopub.status.idle": "2021-08-13T18:30:04.706005Z",
     "shell.execute_reply": "2021-08-13T18:30:04.705793Z",
     "shell.execute_reply.started": "2021-08-13T18:30:04.705738Z"
    }
   },
   "outputs": [],
   "source": [
    "for i,fips in enumerate(unique_fips):\n",
    "    name = msas[msas['CBSA Code']==unique_fips[i]]['CBSA Title'].iloc[0]\n",
    "    plot_multiscalar_graphs(name, fips)"
   ]
  },
  {
   "cell_type": "code",
   "execution_count": null,
   "id": "77ab4be3-a723-4c21-9f80-ef8de7cc25f6",
   "metadata": {},
   "outputs": [],
   "source": []
  }
 ],
 "metadata": {
  "kernelspec": {
   "display_name": "Python [conda env:incseg]",
   "language": "python",
   "name": "conda-env-incseg-py"
  },
  "language_info": {
   "codemirror_mode": {
    "name": "ipython",
    "version": 3
   },
   "file_extension": ".py",
   "mimetype": "text/x-python",
   "name": "python",
   "nbconvert_exporter": "python",
   "pygments_lexer": "ipython3",
   "version": "3.9.6"
  },
  "widgets": {
   "application/vnd.jupyter.widget-state+json": {
    "state": {},
    "version_major": 2,
    "version_minor": 0
   }
  }
 },
 "nbformat": 4,
 "nbformat_minor": 5
}
