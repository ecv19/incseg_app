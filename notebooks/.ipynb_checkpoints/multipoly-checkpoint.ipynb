{
 "cells": [
  {
   "cell_type": "code",
   "execution_count": null,
   "id": "e03b3b0b-f11b-4297-b8c5-0571a5ac1bb4",
   "metadata": {},
   "outputs": [],
   "source": []
  },
  {
   "cell_type": "code",
   "execution_count": 1,
   "id": "ade8106c-2faf-4c75-bf8e-b1b53e749f04",
   "metadata": {
    "execution": {
     "iopub.execute_input": "2021-08-17T18:11:39.450877Z",
     "iopub.status.busy": "2021-08-17T18:11:39.450596Z",
     "iopub.status.idle": "2021-08-17T18:11:40.894115Z",
     "shell.execute_reply": "2021-08-17T18:11:40.893343Z",
     "shell.execute_reply.started": "2021-08-17T18:11:39.450854Z"
    }
   },
   "outputs": [],
   "source": [
    "import geopandas as gpd"
   ]
  },
  {
   "cell_type": "code",
   "execution_count": 2,
   "id": "f2b27a6e-87bb-413f-9265-7cea48c57825",
   "metadata": {
    "execution": {
     "iopub.execute_input": "2021-08-17T18:11:40.896852Z",
     "iopub.status.busy": "2021-08-17T18:11:40.896510Z",
     "iopub.status.idle": "2021-08-17T18:11:41.346440Z",
     "shell.execute_reply": "2021-08-17T18:11:41.345389Z",
     "shell.execute_reply.started": "2021-08-17T18:11:40.896813Z"
    }
   },
   "outputs": [],
   "source": [
    "gdf = gpd.read_parquet('/Users/knaaptime/Dropbox/projects/incseg/data/10100/10100_income_data.parquet')"
   ]
  },
  {
   "cell_type": "code",
   "execution_count": 3,
   "id": "06b60b4f-85c4-4380-8111-c0ee7c454a46",
   "metadata": {
    "execution": {
     "iopub.execute_input": "2021-08-17T18:11:41.348357Z",
     "iopub.status.busy": "2021-08-17T18:11:41.347815Z",
     "iopub.status.idle": "2021-08-17T18:11:41.412726Z",
     "shell.execute_reply": "2021-08-17T18:11:41.411327Z",
     "shell.execute_reply.started": "2021-08-17T18:11:41.348320Z"
    }
   },
   "outputs": [],
   "source": [
    "# This could be any geodataframe\n",
    "gdf = gpd.read_parquet('/Users/knaaptime/Dropbox/projects/incseg/data/10100/10100_income_data.parquet')"
   ]
  },
  {
   "cell_type": "code",
   "execution_count": 4,
   "id": "4ae602b8-00fd-4483-a1a7-6e710f4bf3e0",
   "metadata": {
    "execution": {
     "iopub.execute_input": "2021-08-17T18:11:41.431626Z",
     "iopub.status.busy": "2021-08-17T18:11:41.414407Z",
     "iopub.status.idle": "2021-08-17T18:11:41.440758Z",
     "shell.execute_reply": "2021-08-17T18:11:41.438577Z",
     "shell.execute_reply.started": "2021-08-17T18:11:41.431570Z"
    },
    "tags": []
   },
   "outputs": [
    {
     "data": {
      "text/plain": [
       "<GeometryArray>\n",
       "[<shapely.geometry.multipolygon.MultiPolygon object at 0x1a62b0280>,\n",
       " <shapely.geometry.multipolygon.MultiPolygon object at 0x1a63233d0>,\n",
       " <shapely.geometry.multipolygon.MultiPolygon object at 0x1a62b0280>,\n",
       " <shapely.geometry.multipolygon.MultiPolygon object at 0x1a62b0490>,\n",
       " <shapely.geometry.multipolygon.MultiPolygon object at 0x1a62b0280>,\n",
       " <shapely.geometry.multipolygon.MultiPolygon object at 0x1a62b0490>,\n",
       " <shapely.geometry.multipolygon.MultiPolygon object at 0x105c5d4f0>,\n",
       " <shapely.geometry.multipolygon.MultiPolygon object at 0x1a62b0490>,\n",
       " <shapely.geometry.multipolygon.MultiPolygon object at 0x105c5d4f0>,\n",
       " <shapely.geometry.multipolygon.MultiPolygon object at 0x1a62b0490>,\n",
       " ...\n",
       " <shapely.geometry.multipolygon.MultiPolygon object at 0x1a62b0490>,\n",
       " <shapely.geometry.multipolygon.MultiPolygon object at 0x1a62b0c70>,\n",
       " <shapely.geometry.multipolygon.MultiPolygon object at 0x1a62b0490>,\n",
       " <shapely.geometry.multipolygon.MultiPolygon object at 0x1a62b0c70>,\n",
       " <shapely.geometry.multipolygon.MultiPolygon object at 0x1a62b0490>,\n",
       " <shapely.geometry.multipolygon.MultiPolygon object at 0x1a62b0c70>,\n",
       " <shapely.geometry.multipolygon.MultiPolygon object at 0x1a62b0490>,\n",
       " <shapely.geometry.multipolygon.MultiPolygon object at 0x1a62b0c70>,\n",
       " <shapely.geometry.multipolygon.MultiPolygon object at 0x1a62b0490>,\n",
       " <shapely.geometry.multipolygon.MultiPolygon object at 0x1a62b0c70>]\n",
       "Length: 245, dtype: geometry"
      ]
     },
     "execution_count": 4,
     "metadata": {},
     "output_type": "execute_result"
    }
   ],
   "source": [
    "# the geometry column stores each polygon as a `shapely` object\n",
    "gdf.geometry.values"
   ]
  },
  {
   "cell_type": "code",
   "execution_count": 5,
   "id": "271ef5bc-e546-4e1f-a0ad-f038eefa21ad",
   "metadata": {
    "execution": {
     "iopub.execute_input": "2021-08-17T18:11:41.444775Z",
     "iopub.status.busy": "2021-08-17T18:11:41.444434Z",
     "iopub.status.idle": "2021-08-17T18:11:41.452865Z",
     "shell.execute_reply": "2021-08-17T18:11:41.451540Z",
     "shell.execute_reply.started": "2021-08-17T18:11:41.444748Z"
    },
    "tags": []
   },
   "outputs": [
    {
     "data": {
      "text/plain": [
       "shapely.geometry.multipolygon.MultiPolygon"
      ]
     },
     "execution_count": 5,
     "metadata": {},
     "output_type": "execute_result"
    }
   ],
   "source": [
    "type(gdf.geometry.iloc[0])"
   ]
  },
  {
   "cell_type": "code",
   "execution_count": 6,
   "id": "68fec229-3b06-4ad3-9bf9-628eabdc39c8",
   "metadata": {
    "execution": {
     "iopub.execute_input": "2021-08-17T18:11:41.455340Z",
     "iopub.status.busy": "2021-08-17T18:11:41.454444Z",
     "iopub.status.idle": "2021-08-17T18:11:41.483732Z",
     "shell.execute_reply": "2021-08-17T18:11:41.482711Z",
     "shell.execute_reply.started": "2021-08-17T18:11:41.455285Z"
    }
   },
   "outputs": [
    {
     "data": {
      "image/svg+xml": [
       "<svg xmlns=\"http://www.w3.org/2000/svg\" xmlns:xlink=\"http://www.w3.org/1999/xlink\" width=\"300\" height=\"300\" viewBox=\"539388.8642109607 5036106.317312302 1360.804428295698 1272.6183130210266\" preserveAspectRatio=\"xMinYMin meet\"><g transform=\"matrix(1,0,0,-1,0,10073485.252937626)\"><g><path fill-rule=\"evenodd\" fill=\"#66cc99\" stroke=\"#555555\" stroke-width=\"9.07202952197132\" opacity=\"0.6\" d=\"M 539441.6257332339,5036766.048426961 L 539441.5154690644,5036783.601617879 L 539441.0653042181,5036892.588289366 L 539440.5864895642,5037018.57326234 L 539439.8709856363,5037219.549599133 L 539439.2643749716,5037328.535461312 L 539448.5640923709,5037328.48288043 L 539471.5388264693,5037328.5164179485 L 539476.2281081772,5037328.434845135 L 539485.3715335743,5037328.381334384 L 539501.6267150562,5037328.261548146 L 539550.1576854183,5037327.901061601 L 539566.3339543656,5037327.892050624 L 539605.6433614626,5037327.584792666 L 539723.5716937758,5037326.664595656 L 539762.802278134,5037326.468927571 L 539768.9762832321,5037326.396992523 L 539778.9800361306,5037326.238262259 L 539787.263859964,5037326.179735597 L 539793.3590150625,5037326.218429763 L 539836.9670902003,5037325.828806895 L 539967.554667606,5037324.993663355 L 539989.2017202198,5037324.909523085 L 540011.0838521225,5037324.715852232 L 540051.2529480716,5037324.416971194 L 540171.6820625152,5037323.521168733 L 540211.7723289458,5037323.333815105 L 540233.6544829269,5037323.140919864 L 540299.3003860513,5037322.673793877 L 540321.1037588597,5037322.591802712 L 540344.8620876406,5037322.300358425 L 540415.5113474592,5037321.533336286 L 540439.1126806572,5037321.35224223 L 540460.5253323566,5037321.268214299 L 540524.7618614449,5037321.238871188 L 540546.1738008264,5037321.266236666 L 540566.6494861863,5037321.065403737 L 540628.0742576608,5037320.7966085905 L 540648.4710844496,5037320.706637254 L 540658.631109403,5037320.550321439 L 540689.1090985961,5037320.414777013 L 540699.2684752455,5037320.36972863 L 540699.2659521707,5037308.704082327 L 540699.0224972388,5037273.92792502 L 540698.9411043036,5037262.372873481 L 540698.6699195101,5037243.928418573 L 540697.6219756937,5037188.593335702 L 540697.0368150601,5037170.369056593 L 540697.0825320062,5037151.260026261 L 540696.9063599549,5037094.041910608 L 540696.7169029774,5037075.042461764 L 540696.7546929962,5037057.1554484 L 540696.8681280712,5037003.494511702 L 540696.9059150169,5036985.607500353 L 540696.9559428759,5036965.831868039 L 540696.8686849361,5036906.947857731 L 540696.83983626,5036887.282821763 L 540696.9586496152,5036868.952015985 L 540697.0003164003,5036814.290676312 L 540697.0402541055,5036796.07046652 L 540696.7640474794,5036778.403634583 L 540695.7768034587,5036725.735429955 L 540695.421641662,5036708.179193526 L 540695.3884552565,5036689.180771031 L 540695.0537028525,5036632.294986363 L 540694.9417052149,5036613.407160512 L 540695.3114603751,5036592.522556628 L 540695.7964094211,5036529.753790711 L 540695.9310460435,5036508.97886922 L 540696.0736023732,5036486.981835487 L 540696.1879862904,5036421.099911207 L 540696.251661362,5036399.213474381 L 540696.4230123264,5036372.772598084 L 540696.7807419171,5036293.448961206 L 540696.8732089144,5036267.118783064 L 540697.0143177274,5036245.343959949 L 540697.2798794869,5036180.240682749 L 540697.3421046747,5036158.5764564425 L 540674.052559005,5036158.2031337945 L 540604.1043844472,5036157.305380691 L 540580.7359538194,5036157.042999124 L 540559.5559661194,5036156.794859602 L 540496.0117000222,5036156.717476313 L 540471.2773691292,5036162.223879437 L 540417.8843287708,5036163.657186726 L 540361.2222593894,5036162.958896409 L 540285.4755291867,5036164.360489953 L 540236.1574117598,5036164.154937266 L 540232.7391743963,5036160.911039326 L 540228.5328463141,5036158.662038282 L 540221.8212985155,5036157.0636038985 L 540209.4709706092,5036157.206606116 L 540126.8491665968,5036158.12160745 L 540113.4842397247,5036158.036094316 L 540037.8242033679,5036158.108061276 L 540012.5771497862,5036158.280221051 L 540012.7200233287,5036160.392039673 L 540012.6782612613,5036166.946705221 L 540012.6641046074,5036169.168627455 L 540012.6407463416,5036172.834764194 L 540012.5964519698,5036192.054855745 L 540012.1590066043,5036260.712249082 L 540012.0124829861,5036283.709083022 L 540011.8652509616,5036306.817018929 L 540011.3425610708,5036376.584837387 L 540011.0383030017,5036399.802880277 L 540011.1198796167,5036423.801125908 L 540011.2871462412,5036495.684268344 L 540010.0662413314,5036515.563495104 L 539988.4655504654,5036520.20303024 L 539919.99077114,5036521.766463424 L 539897.1651488604,5036522.398808235 L 539875.436546197,5036522.59389036 L 539810.2505410768,5036523.179586399 L 539788.364226409,5036523.596179518 L 539786.7230081579,5036523.585764083 L 539781.6430402169,5036523.553528506 L 539779.8448049452,5036523.6532241935 L 539758.7421018606,5036523.741475708 L 539740.7655226564,5036523.849712849 L 539695.4325948979,5036524.229157731 L 539674.3284939047,5036524.539995099 L 539651.0360821803,5036524.837063165 L 539580.9237675867,5036525.838307011 L 539557.5525129371,5036526.2463294575 L 539534.8086132143,5036526.325078142 L 539466.342454607,5036526.560242461 L 539443.5190089465,5036526.861032051 L 539443.3752504137,5036549.746872435 L 539442.9411814059,5036618.848603407 L 539442.7185684394,5036641.844956651 L 539442.6501775822,5036652.73237289 L 539442.2886951956,5036685.393639314 L 539442.1414518236,5036696.3916657735 L 539441.9544302305,5036713.72216068 L 539441.7715961704,5036730.386048877 L 539441.6257332339,5036766.048426961 z\" /></g></g></svg>"
      ],
      "text/plain": [
       "<shapely.geometry.multipolygon.MultiPolygon at 0x1a6323790>"
      ]
     },
     "execution_count": 6,
     "metadata": {},
     "output_type": "execute_result"
    }
   ],
   "source": [
    "# looking at a single geometry will plot it in a notebook\n",
    "gdf.geometry.iloc[0]"
   ]
  },
  {
   "cell_type": "code",
   "execution_count": 7,
   "id": "51c77006-0ca3-4ad2-bd58-b3ec323114bf",
   "metadata": {
    "execution": {
     "iopub.execute_input": "2021-08-17T18:11:41.485825Z",
     "iopub.status.busy": "2021-08-17T18:11:41.485084Z",
     "iopub.status.idle": "2021-08-17T18:11:41.490560Z",
     "shell.execute_reply": "2021-08-17T18:11:41.489284Z",
     "shell.execute_reply.started": "2021-08-17T18:11:41.485774Z"
    }
   },
   "outputs": [],
   "source": [
    "# to see how many pieces you can use `len()`"
   ]
  },
  {
   "cell_type": "code",
   "execution_count": 8,
   "id": "fc022c23-bf5c-4930-942d-b53cfd59d914",
   "metadata": {
    "execution": {
     "iopub.execute_input": "2021-08-17T18:11:41.492883Z",
     "iopub.status.busy": "2021-08-17T18:11:41.492462Z",
     "iopub.status.idle": "2021-08-17T18:11:41.500454Z",
     "shell.execute_reply": "2021-08-17T18:11:41.499316Z",
     "shell.execute_reply.started": "2021-08-17T18:11:41.492837Z"
    }
   },
   "outputs": [],
   "source": [
    "shape = gdf.geometry.iloc[0]"
   ]
  },
  {
   "cell_type": "code",
   "execution_count": 10,
   "id": "d1da5279-2f68-4a39-92b4-5ebeec5891b4",
   "metadata": {
    "execution": {
     "iopub.execute_input": "2021-08-17T18:12:31.383583Z",
     "iopub.status.busy": "2021-08-17T18:12:31.383246Z",
     "iopub.status.idle": "2021-08-17T18:12:31.495874Z",
     "shell.execute_reply": "2021-08-17T18:12:31.494786Z",
     "shell.execute_reply.started": "2021-08-17T18:12:31.383553Z"
    },
    "tags": []
   },
   "outputs": [
    {
     "name": "stdout",
     "output_type": "stream",
     "text": [
      "1\n",
      "1\n",
      "1\n",
      "1\n",
      "1\n",
      "1\n",
      "1\n",
      "1\n",
      "1\n",
      "1\n",
      "1\n",
      "1\n",
      "1\n",
      "1\n",
      "1\n",
      "1\n",
      "1\n",
      "1\n",
      "1\n",
      "1\n",
      "1\n",
      "1\n",
      "1\n",
      "1\n",
      "1\n",
      "1\n",
      "1\n",
      "1\n",
      "1\n",
      "1\n",
      "1\n",
      "1\n",
      "1\n",
      "1\n",
      "1\n",
      "1\n",
      "1\n",
      "1\n",
      "1\n",
      "1\n",
      "1\n",
      "1\n",
      "1\n",
      "1\n",
      "1\n",
      "1\n",
      "1\n",
      "1\n",
      "1\n",
      "1\n",
      "1\n",
      "1\n",
      "1\n",
      "1\n",
      "1\n",
      "1\n",
      "1\n",
      "1\n",
      "1\n",
      "1\n",
      "1\n",
      "1\n",
      "1\n",
      "1\n",
      "1\n",
      "1\n",
      "1\n",
      "1\n",
      "1\n",
      "1\n",
      "1\n",
      "1\n",
      "1\n",
      "1\n",
      "1\n",
      "1\n",
      "1\n",
      "1\n",
      "1\n",
      "1\n",
      "1\n",
      "1\n",
      "1\n",
      "1\n",
      "1\n",
      "1\n",
      "1\n",
      "1\n",
      "1\n",
      "1\n",
      "1\n",
      "1\n",
      "1\n",
      "1\n",
      "1\n",
      "1\n",
      "1\n",
      "1\n",
      "1\n",
      "1\n",
      "1\n",
      "1\n",
      "1\n",
      "1\n",
      "1\n",
      "1\n",
      "1\n",
      "1\n",
      "1\n",
      "1\n",
      "1\n",
      "1\n",
      "1\n",
      "1\n",
      "1\n",
      "1\n",
      "1\n",
      "1\n",
      "1\n",
      "1\n",
      "1\n",
      "1\n",
      "1\n",
      "1\n",
      "1\n",
      "1\n",
      "1\n",
      "1\n",
      "1\n",
      "1\n",
      "1\n",
      "1\n",
      "1\n",
      "1\n",
      "1\n",
      "1\n",
      "1\n",
      "1\n",
      "1\n",
      "1\n",
      "1\n",
      "1\n",
      "1\n",
      "1\n",
      "1\n",
      "1\n",
      "1\n",
      "1\n",
      "1\n",
      "1\n",
      "1\n",
      "1\n",
      "1\n",
      "1\n",
      "1\n",
      "1\n",
      "1\n",
      "1\n",
      "1\n",
      "1\n",
      "1\n",
      "1\n",
      "1\n",
      "1\n",
      "1\n",
      "1\n",
      "1\n",
      "1\n",
      "1\n",
      "1\n",
      "1\n",
      "1\n",
      "1\n",
      "1\n",
      "1\n",
      "1\n",
      "1\n",
      "1\n",
      "1\n",
      "1\n",
      "1\n",
      "1\n",
      "1\n",
      "1\n",
      "1\n",
      "1\n",
      "1\n",
      "1\n",
      "1\n",
      "1\n",
      "1\n",
      "1\n",
      "1\n",
      "1\n",
      "1\n",
      "1\n",
      "1\n",
      "1\n",
      "1\n",
      "1\n",
      "1\n",
      "1\n",
      "1\n",
      "1\n",
      "1\n",
      "1\n",
      "1\n",
      "1\n",
      "1\n",
      "1\n",
      "1\n",
      "1\n",
      "1\n",
      "1\n",
      "1\n",
      "1\n",
      "1\n",
      "1\n",
      "1\n",
      "1\n",
      "1\n",
      "1\n",
      "1\n",
      "1\n",
      "1\n",
      "1\n",
      "1\n",
      "1\n",
      "1\n",
      "1\n",
      "1\n",
      "1\n",
      "1\n",
      "1\n",
      "1\n",
      "1\n",
      "1\n",
      "1\n",
      "1\n",
      "1\n",
      "1\n",
      "1\n",
      "1\n",
      "1\n",
      "1\n"
     ]
    }
   ],
   "source": [
    "# each of these \"multipolygons\" really only has one piece/poly\n",
    "for i in gdf.geometry.values:\n",
    "    print(len(i))"
   ]
  },
  {
   "cell_type": "code",
   "execution_count": null,
   "id": "f888c6c7-4d82-4e91-9d9c-180ecd21e6c2",
   "metadata": {},
   "outputs": [],
   "source": []
  }
 ],
 "metadata": {
  "kernelspec": {
   "display_name": "Python [conda env:incseg]",
   "language": "python",
   "name": "conda-env-incseg-py"
  },
  "language_info": {
   "codemirror_mode": {
    "name": "ipython",
    "version": 3
   },
   "file_extension": ".py",
   "mimetype": "text/x-python",
   "name": "python",
   "nbconvert_exporter": "python",
   "pygments_lexer": "ipython3",
   "version": "3.9.6"
  },
  "widgets": {
   "application/vnd.jupyter.widget-state+json": {
    "state": {},
    "version_major": 2,
    "version_minor": 0
   }
  }
 },
 "nbformat": 4,
 "nbformat_minor": 5
}
