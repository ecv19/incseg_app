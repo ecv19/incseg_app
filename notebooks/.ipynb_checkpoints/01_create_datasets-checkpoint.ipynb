{
 "cells": [
  {
   "cell_type": "code",
   "execution_count": 1,
   "id": "b207b9b4-83ca-4e96-af78-6af798f27480",
   "metadata": {
    "execution": {
     "iopub.execute_input": "2021-08-12T16:09:52.628237Z",
     "iopub.status.busy": "2021-08-12T16:09:52.627938Z",
     "iopub.status.idle": "2021-08-12T16:09:52.658550Z",
     "shell.execute_reply": "2021-08-12T16:09:52.658069Z",
     "shell.execute_reply.started": "2021-08-12T16:09:52.628211Z"
    },
    "tags": []
   },
   "outputs": [],
   "source": [
    "%load_ext autoreload\n",
    "%autoreload 2"
   ]
  },
  {
   "cell_type": "code",
   "execution_count": 2,
   "id": "788d1462-0e31-4c34-becd-9ef330f63a12",
   "metadata": {
    "execution": {
     "iopub.execute_input": "2021-08-12T16:09:52.659531Z",
     "iopub.status.busy": "2021-08-12T16:09:52.659354Z",
     "iopub.status.idle": "2021-08-12T16:09:57.943808Z",
     "shell.execute_reply": "2021-08-12T16:09:57.942786Z",
     "shell.execute_reply.started": "2021-08-12T16:09:52.659509Z"
    },
    "tags": []
   },
   "outputs": [
    {
     "name": "stderr",
     "output_type": "stream",
     "text": [
      "OMP: Info #271: omp_set_nested routine deprecated, please use omp_set_max_active_levels instead.\n"
     ]
    }
   ],
   "source": [
    "import pandas as pd\n",
    "import geopandas as gpd\n",
    "import quilt3\n",
    "\n",
    "from segregation import singlegroup, multigroup, dynamics, batch\n",
    "from geosnap import datasets, Community\n",
    "from geosnap.analyze import segdyn"
   ]
  },
  {
   "cell_type": "code",
   "execution_count": 2,
   "id": "349b5814-baea-4b44-9aab-89b134e26aac",
   "metadata": {
    "execution": {
     "iopub.execute_input": "2021-08-11T06:19:27.844575Z",
     "iopub.status.busy": "2021-08-11T06:19:27.561832Z",
     "iopub.status.idle": "2021-08-11T06:20:14.816445Z",
     "shell.execute_reply": "2021-08-11T06:20:14.801501Z",
     "shell.execute_reply.started": "2021-08-11T06:19:27.844498Z"
    },
    "tags": []
   },
   "outputs": [
    {
     "name": "stderr",
     "output_type": "stream",
     "text": [
      "100%|██████████| 53.8M/53.8M [00:03<00:00, 15.7MB/s]\n",
      "100%|██████████| 73.8M/73.8M [00:04<00:00, 17.2MB/s]\n",
      "100%|██████████| 74.3M/74.3M [00:15<00:00, 4.83MB/s]\n",
      "100%|██████████| 65.7M/65.7M [00:03<00:00, 17.3MB/s]\n",
      "100%|██████████| 66.8M/66.8M [00:03<00:00, 17.6MB/s]\n",
      "100%|██████████| 67.8M/67.8M [00:04<00:00, 15.9MB/s]\n",
      "100%|██████████| 73.9M/73.9M [00:04<00:00, 17.9MB/s]\n"
     ]
    }
   ],
   "source": [
    "b = quilt3.Bucket(\"s3://spatial-ucr\")\n",
    "\n",
    "for year in range(2012, 2019):\n",
    "    b.fetch(f\"census/demographic_profile/{year}/acs_{year}_X19_INCOME_bg.parquet\", f\"../data/acs/acs_{year}_X19_INCOME_bg.parquet\")"
   ]
  },
  {
   "cell_type": "code",
   "execution_count": 3,
   "id": "3cc699d6-8c4e-4825-8884-f92517fd69de",
   "metadata": {
    "execution": {
     "iopub.execute_input": "2021-08-12T16:09:57.952147Z",
     "iopub.status.busy": "2021-08-12T16:09:57.951957Z",
     "iopub.status.idle": "2021-08-12T16:09:58.149605Z",
     "shell.execute_reply": "2021-08-12T16:09:58.148786Z",
     "shell.execute_reply.started": "2021-08-12T16:09:57.952124Z"
    },
    "tags": []
   },
   "outputs": [],
   "source": [
    "msas = datasets.msa_definitions()"
   ]
  },
  {
   "cell_type": "code",
   "execution_count": 4,
   "id": "e9657588-4bf4-450e-9c58-450933b6fc49",
   "metadata": {
    "execution": {
     "iopub.execute_input": "2021-08-12T15:40:21.757533Z",
     "iopub.status.busy": "2021-08-12T15:40:21.757116Z",
     "iopub.status.idle": "2021-08-12T15:40:29.684626Z",
     "shell.execute_reply": "2021-08-12T15:40:29.684047Z",
     "shell.execute_reply.started": "2021-08-12T15:40:21.757509Z"
    },
    "tags": []
   },
   "outputs": [],
   "source": [
    "from incseg import store_data, store_data_w_islands"
   ]
  },
  {
   "cell_type": "code",
   "execution_count": null,
   "id": "18aa2fac-0fce-4268-98f4-aa1659990f0c",
   "metadata": {
    "tags": []
   },
   "outputs": [],
   "source": [
    "for msa in msas['CBSA Code'].unique():\n",
    "    store_data(msa)"
   ]
  },
  {
   "cell_type": "code",
   "execution_count": null,
   "id": "c23b36f9-ca64-467f-ab2f-6d39347ad675",
   "metadata": {
    "tags": []
   },
   "outputs": [],
   "source": [
    "# the second pass ignores anything we already created but handles MSAs that include islands\n",
    "\n",
    "for msa in msas['CBSA Code'].unique():\n",
    "    store_data_w_islands(msa)"
   ]
  },
  {
   "cell_type": "code",
   "execution_count": null,
   "id": "38b3bf57-70bb-496b-9ffc-a4fc3b8b56d1",
   "metadata": {},
   "outputs": [],
   "source": []
  }
 ],
 "metadata": {
  "kernelspec": {
   "display_name": "Python [conda env:incseg]",
   "language": "python",
   "name": "conda-env-incseg-py"
  },
  "language_info": {
   "codemirror_mode": {
    "name": "ipython",
    "version": 3
   },
   "file_extension": ".py",
   "mimetype": "text/x-python",
   "name": "python",
   "nbconvert_exporter": "python",
   "pygments_lexer": "ipython3",
   "version": "3.9.6"
  },
  "widgets": {
   "application/vnd.jupyter.widget-state+json": {
    "state": {},
    "version_major": 2,
    "version_minor": 0
   }
  }
 },
 "nbformat": 4,
 "nbformat_minor": 5
}
