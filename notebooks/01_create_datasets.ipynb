{
 "cells": [
  {
   "cell_type": "code",
   "execution_count": 1,
   "id": "b207b9b4-83ca-4e96-af78-6af798f27480",
   "metadata": {
    "execution": {
     "iopub.execute_input": "2021-08-12T16:09:52.628237Z",
     "iopub.status.busy": "2021-08-12T16:09:52.627938Z",
     "iopub.status.idle": "2021-08-12T16:09:52.658550Z",
     "shell.execute_reply": "2021-08-12T16:09:52.658069Z",
     "shell.execute_reply.started": "2021-08-12T16:09:52.628211Z"
    },
    "tags": []
   },
   "outputs": [],
   "source": [
    "%load_ext autoreload\n",
    "%autoreload 2"
   ]
  },
  {
   "cell_type": "code",
   "execution_count": 1,
   "id": "788d1462-0e31-4c34-becd-9ef330f63a12",
   "metadata": {
    "execution": {
     "iopub.execute_input": "2021-08-20T16:20:24.377375Z",
     "iopub.status.busy": "2021-08-20T16:20:24.377091Z",
     "iopub.status.idle": "2021-08-20T16:20:36.547073Z",
     "shell.execute_reply": "2021-08-20T16:20:36.545760Z",
     "shell.execute_reply.started": "2021-08-20T16:20:24.377306Z"
    },
    "tags": []
   },
   "outputs": [
    {
     "name": "stderr",
     "output_type": "stream",
     "text": [
      "OMP: Info #271: omp_set_nested routine deprecated, please use omp_set_max_active_levels instead.\n"
     ]
    }
   ],
   "source": [
    "import pandas as pd\n",
    "import geopandas as gpd\n",
    "import quilt3\n",
    "\n",
    "from segregation import singlegroup, multigroup, dynamics, batch\n",
    "from geosnap import datasets, Community\n",
    "from geosnap.analyze import segdyn"
   ]
  },
  {
   "cell_type": "code",
   "execution_count": 2,
   "id": "349b5814-baea-4b44-9aab-89b134e26aac",
   "metadata": {
    "execution": {
     "iopub.execute_input": "2021-08-11T06:19:27.844575Z",
     "iopub.status.busy": "2021-08-11T06:19:27.561832Z",
     "iopub.status.idle": "2021-08-11T06:20:14.816445Z",
     "shell.execute_reply": "2021-08-11T06:20:14.801501Z",
     "shell.execute_reply.started": "2021-08-11T06:19:27.844498Z"
    },
    "tags": []
   },
   "outputs": [
    {
     "name": "stderr",
     "output_type": "stream",
     "text": [
      "100%|██████████| 53.8M/53.8M [00:03<00:00, 15.7MB/s]\n",
      "100%|██████████| 73.8M/73.8M [00:04<00:00, 17.2MB/s]\n",
      "100%|██████████| 74.3M/74.3M [00:15<00:00, 4.83MB/s]\n",
      "100%|██████████| 65.7M/65.7M [00:03<00:00, 17.3MB/s]\n",
      "100%|██████████| 66.8M/66.8M [00:03<00:00, 17.6MB/s]\n",
      "100%|██████████| 67.8M/67.8M [00:04<00:00, 15.9MB/s]\n",
      "100%|██████████| 73.9M/73.9M [00:04<00:00, 17.9MB/s]\n"
     ]
    }
   ],
   "source": [
    "b = quilt3.Bucket(\"s3://spatial-ucr\")\n",
    "\n",
    "for year in range(2012, 2019):\n",
    "    b.fetch(f\"census/demographic_profile/{year}/acs_{year}_X19_INCOME_bg.parquet\", f\"../data/acs/acs_{year}_X19_INCOME_bg.parquet\")"
   ]
  },
  {
   "cell_type": "code",
   "execution_count": 2,
   "id": "3cc699d6-8c4e-4825-8884-f92517fd69de",
   "metadata": {
    "execution": {
     "iopub.execute_input": "2021-08-20T16:20:36.571447Z",
     "iopub.status.busy": "2021-08-20T16:20:36.571148Z",
     "iopub.status.idle": "2021-08-20T16:20:37.133837Z",
     "shell.execute_reply": "2021-08-20T16:20:37.132861Z",
     "shell.execute_reply.started": "2021-08-20T16:20:36.571419Z"
    },
    "tags": []
   },
   "outputs": [],
   "source": [
    "msas = datasets.msa_definitions()"
   ]
  },
  {
   "cell_type": "code",
   "execution_count": 3,
   "id": "e9657588-4bf4-450e-9c58-450933b6fc49",
   "metadata": {
    "execution": {
     "iopub.execute_input": "2021-08-20T16:20:37.135757Z",
     "iopub.status.busy": "2021-08-20T16:20:37.135261Z",
     "iopub.status.idle": "2021-08-20T16:21:00.221362Z",
     "shell.execute_reply": "2021-08-20T16:21:00.219867Z",
     "shell.execute_reply.started": "2021-08-20T16:20:37.135721Z"
    },
    "tags": []
   },
   "outputs": [],
   "source": [
    "from incseg import store_data, store_data_w_islands"
   ]
  },
  {
   "cell_type": "code",
   "execution_count": 4,
   "id": "18aa2fac-0fce-4268-98f4-aa1659990f0c",
   "metadata": {
    "execution": {
     "iopub.execute_input": "2021-08-20T16:21:00.223827Z",
     "iopub.status.busy": "2021-08-20T16:21:00.223167Z",
     "iopub.status.idle": "2021-08-20T16:29:49.018848Z",
     "shell.execute_reply": "2021-08-20T16:29:49.017581Z",
     "shell.execute_reply.started": "2021-08-20T16:21:00.223768Z"
    },
    "tags": []
   },
   "outputs": [
    {
     "name": "stderr",
     "output_type": "stream",
     "text": [
      "OMP: Info #271: omp_set_nested routine deprecated, please use omp_set_max_active_levels instead.\n",
      "OMP: Info #271: omp_set_nested routine deprecated, please use omp_set_max_active_levels instead.\n",
      "OMP: Info #271: omp_set_nested routine deprecated, please use omp_set_max_active_levels instead.\n",
      "OMP: Info #271: omp_set_nested routine deprecated, please use omp_set_max_active_levels instead.\n",
      "OMP: Info #271: omp_set_nested routine deprecated, please use omp_set_max_active_levels instead.\n",
      "OMP: Info #271: omp_set_nested routine deprecated, please use omp_set_max_active_levels instead.\n",
      "OMP: Info #271: omp_set_nested routine deprecated, please use omp_set_max_active_levels instead.\n",
      "SpatialProximity: 100%|██████████| 27/27 [00:14<00:00,  1.92it/s]        \n",
      "SpatialProximity: 100%|██████████| 27/27 [00:14<00:00,  1.92it/s]\n",
      "SpatialProximity: 100%|██████████| 27/27 [00:14<00:00,  1.92it/s]\n",
      "SpatialProximity: 100%|██████████| 27/27 [00:14<00:00,  1.91it/s]\n"
     ]
    },
    {
     "name": "stdout",
     "output_type": "stream",
     "text": [
      "17640 failed with pvals < 0, pvals > 1 or pvals contains NaNs\n"
     ]
    },
    {
     "name": "stderr",
     "output_type": "stream",
     "text": [
      "OMP: Info #271: omp_set_nested routine deprecated, please use omp_set_max_active_levels instead.\n",
      "OMP: Info #271: omp_set_nested routine deprecated, please use omp_set_max_active_levels instead.\n",
      "OMP: Info #271: omp_set_nested routine deprecated, please use omp_set_max_active_levels instead.\n",
      "OMP: Info #271: omp_set_nested routine deprecated, please use omp_set_max_active_levels instead.\n",
      "OMP: Info #271: omp_set_nested routine deprecated, please use omp_set_max_active_levels instead.\n",
      "OMP: Info #271: omp_set_nested routine deprecated, please use omp_set_max_active_levels instead.\n",
      "OMP: Info #271: omp_set_nested routine deprecated, please use omp_set_max_active_levels instead.\n",
      "SpatialProximity: 100%|██████████| 27/27 [02:13<00:00,  4.93s/it]        \n",
      "SpatialProximity: 100%|██████████| 27/27 [02:14<00:00,  4.97s/it]\n",
      "SpatialProximity: 100%|██████████| 27/27 [02:14<00:00,  4.97s/it]\n",
      "SpatialProximity: 100%|██████████| 27/27 [02:14<00:00,  4.98s/it]\n",
      "SpatialProximity: 100%|██████████| 27/27 [02:14<00:00,  4.99s/it]\n",
      "SpatialProximity: 100%|██████████| 27/27 [02:15<00:00,  5.02s/it]\n",
      "SpatialProximity: 100%|██████████| 27/27 [02:15<00:00,  5.03s/it]\n",
      "BoundarySpatialDissim:  19%|█▊        | 5/27 [00:03<00:14,  1.51it/s]OMP: Info #271: omp_set_nested routine deprecated, please use omp_set_max_active_levels instead.\n",
      "OMP: Info #271: omp_set_nested routine deprecated, please use omp_set_max_active_levels instead.\n",
      "OMP: Info #271: omp_set_nested routine deprecated, please use omp_set_max_active_levels instead.\n",
      "SpatialProximity: 100%|██████████| 27/27 [01:54<00:00,  4.23s/it]        \n",
      "SpatialProximity: 100%|██████████| 27/27 [01:55<00:00,  4.26s/it]\n",
      "SpatialProximity: 100%|██████████| 27/27 [01:55<00:00,  4.27s/it]\n",
      "SpatialProximity: 100%|██████████| 27/27 [01:55<00:00,  4.29s/it]\n",
      "SpatialProximity: 100%|██████████| 27/27 [01:58<00:00,  4.38s/it]\n",
      "SpatialProximity: 100%|██████████| 27/27 [01:58<00:00,  4.38s/it]\n",
      "SpatialProximity: 100%|██████████| 27/27 [01:59<00:00,  4.42s/it]\n",
      "OMP: Info #271: omp_set_nested routine deprecated, please use omp_set_max_active_levels instead.\n",
      "OMP: Info #271: omp_set_nested routine deprecated, please use omp_set_max_active_levels instead.\n",
      "OMP: Info #271: omp_set_nested routine deprecated, please use omp_set_max_active_levels instead.\n",
      "OMP: Info #271: omp_set_nested routine deprecated, please use omp_set_max_active_levels instead.\n",
      "ModifiedGini:  70%|███████   | 19/27 [00:05<00:02,  3.52it/s]            OMP: Info #271: omp_set_nested routine deprecated, please use omp_set_max_active_levels instead.\n",
      "SpatialProximity: 100%|██████████| 27/27 [00:13<00:00,  2.04it/s]t/s]  \n",
      "SpatialProximity: 100%|██████████| 27/27 [00:13<00:00,  2.04it/s]\n",
      "SpatialProximity: 100%|██████████| 27/27 [00:13<00:00,  2.03it/s]\n",
      "SpatialProximity: 100%|██████████| 27/27 [00:13<00:00,  2.02it/s]\n",
      "SpatialProximity: 100%|██████████| 27/27 [00:13<00:00,  2.03it/s]\n",
      "SpatialProximity: 100%|██████████| 27/27 [00:18<00:00,  1.50it/s]        \n"
     ]
    },
    {
     "name": "stdout",
     "output_type": "stream",
     "text": [
      "21580 failed with pvals < 0, pvals > 1 or pvals contains NaNs\n"
     ]
    },
    {
     "name": "stderr",
     "output_type": "stream",
     "text": [
      "OMP: Info #271: omp_set_nested routine deprecated, please use omp_set_max_active_levels instead.\n",
      "OMP: Info #271: omp_set_nested routine deprecated, please use omp_set_max_active_levels instead.\n",
      "OMP: Info #271: omp_set_nested routine deprecated, please use omp_set_max_active_levels instead.\n",
      "OMP: Info #271: omp_set_nested routine deprecated, please use omp_set_max_active_levels instead.\n",
      "OMP: Info #271: omp_set_nested routine deprecated, please use omp_set_max_active_levels instead.\n",
      "OMP: Info #271: omp_set_nested routine deprecated, please use omp_set_max_active_levels instead.\n",
      "OMP: Info #271: omp_set_nested routine deprecated, please use omp_set_max_active_levels instead.\n",
      "SpatialProximity: 100%|██████████| 27/27 [00:13<00:00,  1.99it/s]        \n",
      "SpatialProximity: 100%|██████████| 27/27 [00:13<00:00,  1.98it/s]\n",
      "SpatialProximity: 100%|██████████| 27/27 [00:13<00:00,  1.99it/s]\n",
      "SpatialProximity: 100%|██████████| 27/27 [00:13<00:00,  1.98it/s]\n",
      "SpatialProximity: 100%|██████████| 27/27 [00:13<00:00,  1.98it/s]\n"
     ]
    },
    {
     "name": "stdout",
     "output_type": "stream",
     "text": [
      "27580 failed with pvals < 0, pvals > 1 or pvals contains NaNs\n"
     ]
    }
   ],
   "source": [
    "for msa in msas['CBSA Code'].unique():\n",
    "    store_data(msa)"
   ]
  },
  {
   "cell_type": "code",
   "execution_count": 5,
   "id": "c23b36f9-ca64-467f-ab2f-6d39347ad675",
   "metadata": {
    "execution": {
     "iopub.execute_input": "2021-08-20T16:29:49.023987Z",
     "iopub.status.busy": "2021-08-20T16:29:49.023380Z",
     "iopub.status.idle": "2021-08-20T16:31:30.534691Z",
     "shell.execute_reply": "2021-08-20T16:31:30.533387Z",
     "shell.execute_reply.started": "2021-08-20T16:29:49.023954Z"
    },
    "tags": []
   },
   "outputs": [
    {
     "name": "stderr",
     "output_type": "stream",
     "text": [
      "OMP: Info #271: omp_set_nested routine deprecated, please use omp_set_max_active_levels instead.\n",
      "OMP: Info #271: omp_set_nested routine deprecated, please use omp_set_max_active_levels instead.\n",
      "OMP: Info #271: omp_set_nested routine deprecated, please use omp_set_max_active_levels instead.\n",
      "OMP: Info #271: omp_set_nested routine deprecated, please use omp_set_max_active_levels instead.\n",
      "OMP: Info #271: omp_set_nested routine deprecated, please use omp_set_max_active_levels instead.\n",
      "OMP: Info #271: omp_set_nested routine deprecated, please use omp_set_max_active_levels instead.\n",
      "OMP: Info #271: omp_set_nested routine deprecated, please use omp_set_max_active_levels instead.\n",
      "SpatialProximity: 100%|██████████| 27/27 [00:13<00:00,  2.02it/s]        \n",
      "SpatialProximity: 100%|██████████| 27/27 [00:13<00:00,  2.02it/s]\n",
      "SpatialProximity: 100%|██████████| 27/27 [00:13<00:00,  2.01it/s]\n",
      "SpatialProximity: 100%|██████████| 27/27 [00:13<00:00,  2.01it/s]\n"
     ]
    },
    {
     "name": "stdout",
     "output_type": "stream",
     "text": [
      "17640 failed with pvals < 0, pvals > 1 or pvals contains NaNs\n"
     ]
    },
    {
     "name": "stderr",
     "output_type": "stream",
     "text": [
      "OMP: Info #271: omp_set_nested routine deprecated, please use omp_set_max_active_levels instead.\n",
      "OMP: Info #271: omp_set_nested routine deprecated, please use omp_set_max_active_levels instead.\n",
      "OMP: Info #271: omp_set_nested routine deprecated, please use omp_set_max_active_levels instead.\n",
      "OMP: Info #271: omp_set_nested routine deprecated, please use omp_set_max_active_levels instead.\n",
      "OMP: Info #271: omp_set_nested routine deprecated, please use omp_set_max_active_levels instead.\n",
      "OMP: Info #271: omp_set_nested routine deprecated, please use omp_set_max_active_levels instead.\n",
      "OMP: Info #271: omp_set_nested routine deprecated, please use omp_set_max_active_levels instead.\n",
      "SpatialProximity: 100%|██████████| 27/27 [00:17<00:00,  1.51it/s]        \n",
      "SpatialProximity: 100%|██████████| 27/27 [00:17<00:00,  1.51it/s]\n",
      "SpatialProximity: 100%|██████████| 27/27 [00:17<00:00,  1.51it/s]\n",
      "SpatialProximity: 100%|██████████| 27/27 [00:17<00:00,  1.51it/s]\n",
      "SpatialProximity: 100%|██████████| 27/27 [00:17<00:00,  1.50it/s]\n",
      "SpatialProximity: 100%|██████████| 27/27 [00:18<00:00,  1.50it/s]\n"
     ]
    },
    {
     "name": "stdout",
     "output_type": "stream",
     "text": [
      "21580 failed with pvals < 0, pvals > 1 or pvals contains NaNs\n"
     ]
    },
    {
     "name": "stderr",
     "output_type": "stream",
     "text": [
      "OMP: Info #271: omp_set_nested routine deprecated, please use omp_set_max_active_levels instead.\n",
      "OMP: Info #271: omp_set_nested routine deprecated, please use omp_set_max_active_levels instead.\n",
      "OMP: Info #271: omp_set_nested routine deprecated, please use omp_set_max_active_levels instead.\n",
      "OMP: Info #271: omp_set_nested routine deprecated, please use omp_set_max_active_levels instead.\n",
      "OMP: Info #271: omp_set_nested routine deprecated, please use omp_set_max_active_levels instead.\n",
      "OMP: Info #271: omp_set_nested routine deprecated, please use omp_set_max_active_levels instead.\n",
      "OMP: Info #271: omp_set_nested routine deprecated, please use omp_set_max_active_levels instead.\n",
      "SpatialProximity: 100%|██████████| 27/27 [00:12<00:00,  2.17it/s]        \n",
      "SpatialProximity: 100%|██████████| 27/27 [00:12<00:00,  2.17it/s]\n",
      "SpatialProximity: 100%|██████████| 27/27 [00:12<00:00,  2.16it/s]\n",
      "SpatialProximity: 100%|██████████| 27/27 [00:12<00:00,  2.16it/s]\n",
      "SpatialProximity: 100%|██████████| 27/27 [00:12<00:00,  2.17it/s]\n",
      "SpatialProximity: 100%|██████████| 27/27 [00:12<00:00,  2.14it/s]\n"
     ]
    },
    {
     "name": "stdout",
     "output_type": "stream",
     "text": [
      "27580 failed with pvals < 0, pvals > 1 or pvals contains NaNs\n"
     ]
    }
   ],
   "source": [
    "# the second pass ignores anything we already created but handles MSAs that include islands\n",
    "\n",
    "for msa in msas['CBSA Code'].unique():\n",
    "    store_data_w_islands(msa)"
   ]
  },
  {
   "cell_type": "code",
   "execution_count": null,
   "id": "38b3bf57-70bb-496b-9ffc-a4fc3b8b56d1",
   "metadata": {},
   "outputs": [],
   "source": []
  }
 ],
 "metadata": {
  "kernelspec": {
   "display_name": "Python [conda env:incseg]",
   "language": "python",
   "name": "conda-env-incseg-py"
  },
  "language_info": {
   "codemirror_mode": {
    "name": "ipython",
    "version": 3
   },
   "file_extension": ".py",
   "mimetype": "text/x-python",
   "name": "python",
   "nbconvert_exporter": "python",
   "pygments_lexer": "ipython3",
   "version": "3.9.6"
  },
  "widgets": {
   "application/vnd.jupyter.widget-state+json": {
    "state": {},
    "version_major": 2,
    "version_minor": 0
   }
  }
 },
 "nbformat": 4,
 "nbformat_minor": 5
}
